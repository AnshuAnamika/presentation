{
 "cells": [
  {
   "cell_type": "code",
   "execution_count": null,
   "id": "73b0b442",
   "metadata": {},
   "outputs": [
    {
     "name": "stdout",
     "output_type": "stream",
     "text": [
      "Rolled number: 5\n",
      "Please write either yes or no\n",
      "Rolled number: 3\n"
     ]
    }
   ],
   "source": [
    "import random\n",
    "## Generating random dice face and showing the number\n",
    "rolling_number = random.randint(1,6)\n",
    "print(f\"Rolled number: {rolling_number}\")\n",
    "\n",
    "\n",
    "## Asking user if they want to roll again and getting input from user.\n",
    "while True:\n",
    "    continue_rolling = input(\"Do you want to roll the dice again? write yes/no \").lower()\n",
    "    if continue_rolling == \"yes\":\n",
    "        rolling_number = random.randint(1,6)\n",
    "        print(f\"Rolled number: {rolling_number}\")\n",
    "    elif continue_rolling == \"no\":\n",
    "        print(f\"Your final rolled number: {rolling_number}\")\n",
    "        break\n",
    "    else:\n",
    "        print(\"Please write either yes or no\") ## to validate user input"
   ]
  }
 ],
 "metadata": {
  "kernelspec": {
   "display_name": "Python 3",
   "language": "python",
   "name": "python3"
  },
  "language_info": {
   "codemirror_mode": {
    "name": "ipython",
    "version": 3
   },
   "file_extension": ".py",
   "mimetype": "text/x-python",
   "name": "python",
   "nbconvert_exporter": "python",
   "pygments_lexer": "ipython3",
   "version": "3.12.3"
  }
 },
 "nbformat": 4,
 "nbformat_minor": 5
}
