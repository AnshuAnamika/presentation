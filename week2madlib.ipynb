{
 "cells": [
  {
   "cell_type": "code",
   "execution_count": 11,
   "id": "abd2c063",
   "metadata": {},
   "outputs": [
    {
     "name": "stdout",
     "output_type": "stream",
     "text": [
      "Welcome to the Madlibs game!!!\n",
      " \n",
      "This is a fun and interactive word game called Mad Libs. In this game, you are asked to enter different types of words such as\n",
      "adjectives, verbs, nouns etc. Once all the required words are gathered, the program takes those words and inserts them into a\n",
      "pre-written story template. This creates a unique and often funny or silly story based on your input.\n",
      "\n",
      "There was a good person called Shiva who was a data scientist. He/She started to run \n",
      "on a project which was about a cat. When he/she finished the project he/she decided to go on holiday to London \n",
      "and live there happily ever after.\n",
      "\n",
      "This is your madlib generated story! I hope you had fun playing the game!\n"
     ]
    }
   ],
   "source": [
    "\n",
    "print(\"\"\"Welcome to the Madlibs game!!!\\n \n",
    "This is a fun and interactive word game called Mad Libs. In this game, you are asked to enter different types of words such as\n",
    "adjectives, verbs, nouns etc. Once all the required words are gathered, the program takes those words and inserts them into a\n",
    "pre-written story template. This creates a unique and often funny or silly story based on your input.\\n\"\"\")\n",
    "while True:\n",
    "    list1 = []\n",
    "    user_ask = input(\"Do you want to play this game? type yes or no \").lower()\n",
    "    question=[\"adjective\", \"verb(eg. work not working)\", \"singular countable noun\", \"place name\", \"person'sname\"]\n",
    "    if user_ask == \"yes\":\n",
    "        for words in question:\n",
    "            ask = input(f\"Type one {words} \").lower()\n",
    "            list1.append(ask)\n",
    "        print(f\"\"\"There was a {list1[0]} person called {list1[4].capitalize()} who was a data scientist. He/She started to {list1[1]} \n",
    "on a project which was about a {list1[2]}. When he/she finished the project he/she decided to go on holiday to {list1[3].capitalize()} \n",
    "and live there happily ever after.\\n\n",
    "This is your madlib generated story! I hope you had fun playing the game!\"\"\")\n",
    "        break\n",
    "    elif user_ask == \"no\":\n",
    "        print(\"Thanks for your time! Good bye!\")\n",
    "        break\n",
    "    else:\n",
    "        print(\"Please type either yes or no\")"
   ]
  }
 ],
 "metadata": {
  "kernelspec": {
   "display_name": "Python 3",
   "language": "python",
   "name": "python3"
  },
  "language_info": {
   "codemirror_mode": {
    "name": "ipython",
    "version": 3
   },
   "file_extension": ".py",
   "mimetype": "text/x-python",
   "name": "python",
   "nbconvert_exporter": "python",
   "pygments_lexer": "ipython3",
   "version": "3.12.3"
  }
 },
 "nbformat": 4,
 "nbformat_minor": 5
}
